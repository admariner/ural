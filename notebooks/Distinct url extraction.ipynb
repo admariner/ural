{
 "cells": [
  {
   "cell_type": "markdown",
   "id": "d4845c36-da97-4a0a-9ba4-2f7d78c98542",
   "metadata": {},
   "source": [
    "# Extracting distinct urls from raw text\n",
    "\n",
    "*This example will show you how to use ural to extract distinct normalized urls from raw text or html contained in a CSV file's column.*"
   ]
  },
  {
   "cell_type": "code",
   "execution_count": 1,
   "id": "c1aec4fa-3416-492e-a6df-a0e96b93c896",
   "metadata": {},
   "outputs": [],
   "source": [
    "# Some path wizardry to make python acknowledge relative paths, just ignore this part...\n",
    "import sys; sys.path.append('..')"
   ]
  },
  {
   "cell_type": "code",
   "execution_count": 8,
   "id": "e20b7e57-9f9a-4fea-bed7-c787d1d35b7b",
   "metadata": {},
   "outputs": [],
   "source": [
    "import pandas as pd\n",
    "from ural import (\n",
    "    urls_from_text,\n",
    "    urls_from_html,\n",
    "    normalize_url\n",
    ")"
   ]
  },
  {
   "cell_type": "code",
   "execution_count": 3,
   "id": "cfd0adc7-e001-40b7-b054-c914e3ee9305",
   "metadata": {},
   "outputs": [
    {
     "data": {
      "text/html": [
       "<div>\n",
       "<style scoped>\n",
       "    .dataframe tbody tr th:only-of-type {\n",
       "        vertical-align: middle;\n",
       "    }\n",
       "\n",
       "    .dataframe tbody tr th {\n",
       "        vertical-align: top;\n",
       "    }\n",
       "\n",
       "    .dataframe thead th {\n",
       "        text-align: right;\n",
       "    }\n",
       "</style>\n",
       "<table border=\"1\" class=\"dataframe\">\n",
       "  <thead>\n",
       "    <tr style=\"text-align: right;\">\n",
       "      <th></th>\n",
       "      <th>user</th>\n",
       "      <th>comment_text</th>\n",
       "      <th>comment_html</th>\n",
       "    </tr>\n",
       "  </thead>\n",
       "  <tbody>\n",
       "    <tr>\n",
       "      <th>0</th>\n",
       "      <td>George</td>\n",
       "      <td>This is the media I most read: http://www.lemo...</td>\n",
       "      <td>&lt;p&gt;This is the media I most read: &lt;a href=\"htt...</td>\n",
       "    </tr>\n",
       "    <tr>\n",
       "      <th>1</th>\n",
       "      <td>Judy</td>\n",
       "      <td>I don't care about anything else than http://l...</td>\n",
       "      <td>&lt;p&gt;I don't care about anything else than &lt;a hr...</td>\n",
       "    </tr>\n",
       "    <tr>\n",
       "      <th>2</th>\n",
       "      <td>Philip</td>\n",
       "      <td>Whatever...</td>\n",
       "      <td>&lt;p&gt;Whatever...&lt;/p&gt;</td>\n",
       "    </tr>\n",
       "    <tr>\n",
       "      <th>3</th>\n",
       "      <td>Albert</td>\n",
       "      <td>You should check out https://www.lefigaro.fr a...</td>\n",
       "      <td>&lt;p&gt;You should check out &lt;a href=\"https://www.l...</td>\n",
       "    </tr>\n",
       "    <tr>\n",
       "      <th>4</th>\n",
       "      <td>Maria</td>\n",
       "      <td>I think http://lemonde.fr is better actually :3.</td>\n",
       "      <td>&lt;p&gt;I think &lt;a href=\"http://lemonde.fr\"&gt;http://...</td>\n",
       "    </tr>\n",
       "  </tbody>\n",
       "</table>\n",
       "</div>"
      ],
      "text/plain": [
       "     user                                       comment_text  \\\n",
       "0  George  This is the media I most read: http://www.lemo...   \n",
       "1    Judy  I don't care about anything else than http://l...   \n",
       "2  Philip                                        Whatever...   \n",
       "3  Albert  You should check out https://www.lefigaro.fr a...   \n",
       "4   Maria   I think http://lemonde.fr is better actually :3.   \n",
       "\n",
       "                                        comment_html  \n",
       "0  <p>This is the media I most read: <a href=\"htt...  \n",
       "1  <p>I don't care about anything else than <a hr...  \n",
       "2                                 <p>Whatever...</p>  \n",
       "3  <p>You should check out <a href=\"https://www.l...  \n",
       "4  <p>I think <a href=\"http://lemonde.fr\">http://...  "
      ]
     },
     "execution_count": 3,
     "metadata": {},
     "output_type": "execute_result"
    }
   ],
   "source": [
    "# Loading our dummy CSV data\n",
    "df = pd.read_csv('./data/comments.csv')\n",
    "df.head()"
   ]
  },
  {
   "cell_type": "code",
   "execution_count": 4,
   "id": "7b9a2923-04f2-40ae-8282-bd8806a41836",
   "metadata": {},
   "outputs": [
    {
     "name": "stdout",
     "output_type": "stream",
     "text": [
      "George: This is the media I most read: http://www.lemonde.fr. It is accurate enough.\n",
      "\n",
      "Judy: I don't care about anything else than http://lefigaro.fr?utm_campaign=4. What do you make of it? https://www.google.com/url?sa=t&rct=j&q=&esrc=s&source=web&cd=&cad=rja&uact=8&ved=2ahUKEwiCjrb7hpb2AhVOx4UKHXGeBS8QFnoECAwQAQ&url=https%3A%2F%2Fwww.lemonde.fr%2F&usg=AOvVaw1mI-cPIQr3docEINuU9JU2 seems better.\n",
      "\n",
      "Philip: Whatever...\n",
      "\n",
      "Albert: You should check out https://www.lefigaro.fr at all cost.\n",
      "\n",
      "Maria: I think http://lemonde.fr is better actually :3.\n",
      "\n"
     ]
    }
   ],
   "source": [
    "# Reading our very interesting comments\n",
    "for row in df.itertuples():\n",
    "    print(\"%s: %s\" % (row.user, row.comment_text))\n",
    "    print()"
   ]
  },
  {
   "cell_type": "code",
   "execution_count": 9,
   "id": "4feba9c2-30ae-40e6-ab17-a70309b06d55",
   "metadata": {},
   "outputs": [
    {
     "data": {
      "text/plain": [
       "0                                http://www.lemonde.fr\n",
       "1                    http://lefigaro.fr?utm_campaign=4\n",
       "1    https://www.google.com/url?sa=t&rct=j&q=&esrc=...\n",
       "3                              https://www.lefigaro.fr\n",
       "4                                    http://lemonde.fr\n",
       "Name: urls, dtype: object"
      ]
     },
     "execution_count": 9,
     "metadata": {},
     "output_type": "execute_result"
    }
   ],
   "source": [
    "# Using ural to extract urls found in the comment text\n",
    "# NOTE: I am using a lambda here to consume the iterator returned by `urls_from_text`\n",
    "df['urls'] = df['comment_text'].apply(lambda text: list(urls_from_text(text)))\n",
    "urls = df['urls'].explode().dropna()\n",
    "urls"
   ]
  },
  {
   "cell_type": "code",
   "execution_count": 10,
   "id": "6d5e8850-4644-4b43-a3e2-4e9a4806e3b8",
   "metadata": {},
   "outputs": [
    {
     "data": {
      "text/plain": [
       "0                                http://www.lemonde.fr\n",
       "1                    http://lefigaro.fr?utm_campaign=4\n",
       "1    https://www.google.com/url?sa=t&rct=j&q=&esrc=...\n",
       "3                              https://www.lefigaro.fr\n",
       "4                                    http://lemonde.fr\n",
       "Name: urls, dtype: object"
      ]
     },
     "execution_count": 10,
     "metadata": {},
     "output_type": "execute_result"
    }
   ],
   "source": [
    "# If you have the original HTML and want to take advantage of this\n",
    "df['urls'] = df['comment_html'].apply(lambda html: list(urls_from_html(html)))\n",
    "urls = df['urls'].explode().dropna()\n",
    "urls"
   ]
  },
  {
   "cell_type": "code",
   "execution_count": 12,
   "id": "229d98ed-ea21-4a37-96a2-77185d53ad3f",
   "metadata": {},
   "outputs": [
    {
     "data": {
      "text/plain": [
       "http://www.lemonde.fr                                                                                                                                                                                 1\n",
       "https://www.google.com/url?sa=t&rct=j&q=&esrc=s&source=web&cd=&cad=rja&uact=8&ved=2ahUKEwiCjrb7hpb2AhVOx4UKHXGeBS8QFnoECAwQAQ&url=https%3A%2F%2Fwww.lemonde.fr%2F&usg=AOvVaw1mI-cPIQr3docEINuU9JU2    1\n",
       "https://www.lefigaro.fr                                                                                                                                                                               1\n",
       "http://lemonde.fr                                                                                                                                                                                     1\n",
       "http://lefigaro.fr?utm_campaign=4                                                                                                                                                                     1\n",
       "Name: urls, dtype: int64"
      ]
     },
     "execution_count": 12,
     "metadata": {},
     "output_type": "execute_result"
    }
   ],
   "source": [
    "urls.value_counts()"
   ]
  },
  {
   "cell_type": "code",
   "execution_count": 14,
   "id": "eade2cae-d726-478d-b2cd-b7437b8a8c7d",
   "metadata": {},
   "outputs": [
    {
     "data": {
      "text/plain": [
       "lemonde.fr     3\n",
       "lefigaro.fr    2\n",
       "Name: urls, dtype: int64"
      ]
     },
     "execution_count": 14,
     "metadata": {},
     "output_type": "execute_result"
    }
   ],
   "source": [
    "# As you can see, you should probably \"normalize\" your urls if you want to compute accurate stats\n",
    "urls.apply(normalize_url).value_counts()"
   ]
  }
 ],
 "metadata": {
  "kernelspec": {
   "display_name": "Python 3",
   "language": "python",
   "name": "python3"
  },
  "language_info": {
   "codemirror_mode": {
    "name": "ipython",
    "version": 3
   },
   "file_extension": ".py",
   "mimetype": "text/x-python",
   "name": "python",
   "nbconvert_exporter": "python",
   "pygments_lexer": "ipython3",
   "version": "3.6.11"
  }
 },
 "nbformat": 4,
 "nbformat_minor": 5
}
